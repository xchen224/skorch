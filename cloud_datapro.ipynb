{
  "nbformat": 4,
  "nbformat_minor": 0,
  "metadata": {
    "colab": {
      "name": "Untitled0.ipynb",
      "provenance": [],
      "authorship_tag": "ABX9TyPGFzZH1oDx8lU0+c4/JOyY",
      "include_colab_link": true
    },
    "kernelspec": {
      "name": "python3",
      "display_name": "Python 3"
    },
    "language_info": {
      "name": "python"
    }
  },
  "cells": [
    {
      "cell_type": "markdown",
      "metadata": {
        "id": "view-in-github",
        "colab_type": "text"
      },
      "source": [
        "<a href=\"https://colab.research.google.com/github/xchen224/skorch/blob/main/cloud_datapro.ipynb\" target=\"_parent\"><img src=\"https://colab.research.google.com/assets/colab-badge.svg\" alt=\"Open In Colab\"/></a>"
      ]
    },
    {
      "cell_type": "code",
      "metadata": {
        "id": "0sILEXVY2iiw"
      },
      "source": [
        "####\n",
        "def tropomi_l1brad_to_refl(l1bdata,\n",
        "                     bandname,\n",
        "                     region=[-180,180,-90,90],\n",
        "                     irr_filename=None,\n",
        "                     channel=None):\n",
        "  \"\"\"\n",
        "  Convolve tropomi L1B radiance to reflectance \n",
        "  \"\"\"\n",
        "\n",
        "  mask3d, mask = tropomi_l1b_prescreen(l1bdata['radiance'],\n",
        "                                         l1bdata['latitude'],\n",
        "                                         l1bdata['longitude'], region,\n",
        "                                         l1bdata['measurement_quality'],\n",
        "                                         l1bdata['ground_pixel_quality'],\n",
        "                                         l1bdata['spectral_channel_quality'])\n",
        "\n",
        "  npixel = l1bdata['radiance'].shape[2]\n",
        "  nchannel = l1bdata['radiance'].shape[3]\n",
        "  nscan = l1bdata['radiance'].shape[1]\n",
        "\n",
        "  print(npixel, nchannel, nscan)\n",
        "  #print(mask[1265:1267,150], type(mask[1265:1267,150]))\n",
        "  mask0 = np.zeros(mask.shape)\n",
        "  mask0[:] = False\n",
        "\n",
        "  # define output data\n",
        "  theta0 = l1bdata['solar_zenith_angle'][0, :, :]\n",
        "  theta0.mask = mask\n",
        "  theta = l1bdata['viewing_zenith_angle'][0, :, :]\n",
        "  theta.mask = mask\n",
        "  phi0 = l1bdata['solar_azimuth_angle'][0, :, :]\n",
        "  phi0.mask = mask\n",
        "  phi = l1bdata['viewing_azimuth_angle'][0, :, :]\n",
        "  phi.mask = mask\n",
        "  lat = l1bdata['latitude'][0, :, :]\n",
        "  lat.mask = mask0\n",
        "  lon = l1bdata['longitude'][0, :, :]\n",
        "  lon.mask = mask0\n",
        "  \n",
        "  time0 = np.reshape(np.tile(l1bdata['time'][0, :], npixel), (npixel, nscan))\n",
        "  time = time0.T\n",
        "  time.mask = mask0\n",
        "\n",
        "  radiance = l1bdata['radiance'][0, :, :, :]\n",
        "  radiance.mask = mask3d\n",
        "\n",
        "  if irr_filename is None:\n",
        "    print('Error: TROPOMI solar irradiance filename is not defined!')\n",
        "    sys.exit()\n",
        "  else:\n",
        "    irr, invalid0 = read_tropomi_irr(irr_filename, channel)\n",
        "    invalid = np.ma.filled(invalid0, fill_value=True)\n",
        "\n",
        "  # pifactor 3d\n",
        "  theta0_1 = np.empty((theta0.shape[0],theta0.shape[1],1))\n",
        "  theta0_1[:,:,0] = theta0\n",
        "  theta0_3d  = np.tile( theta0_1, nchannel )\n",
        "  mask_1   = np.empty((theta0.shape[0],theta0.shape[1],1))\n",
        "  mask_1[:,:,0] = mask\n",
        "  mask_angle = np.tile( mask_1, nchannel )\n",
        "  theta0_3d  = np.ma.masked_array( theta0_3d, mask=mask_angle )\n",
        "  print('check theta0 3d:', theta0_3d[:,:,0], theta0)\n",
        "  \n",
        "  pifactor = np.pi / np.cos(theta0_3d * np.pi / 180.)\n",
        "\n",
        "  # refl = rad / E0 * pifactor\n",
        "  irr3d = np.tile( irr['irradiance'], (nscan,1,1) )\n",
        "  invalid3d = np.tile( invalid, (nscan,1,1) )\n",
        "  irr3d.mask = invalid3d\n",
        "  print('check irr 3d:', irr3d.shape, invalid3d.shape)\n",
        "\n",
        "  refl = radiance / irr3d * pifactor\n",
        "\n",
        "  return dict(rad=radiance,\n",
        "                refl=refl,\n",
        "                lat=lat,\n",
        "                lon=lon,\n",
        "                theta0=theta0,\n",
        "                theta=theta,\n",
        "                phi0=phi0,\n",
        "                phi=phi,\n",
        "                time=time)\n"
      ],
      "execution_count": null,
      "outputs": []
    }
  ]
}